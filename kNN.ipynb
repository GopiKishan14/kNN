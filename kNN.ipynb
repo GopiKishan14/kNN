{
 "cells": [
  {
   "cell_type": "code",
   "execution_count": 4,
   "metadata": {},
   "outputs": [],
   "source": [
    "import numpy as np\n",
    "import pandas as pd\n",
    "import math\n",
    "# The operator module exports a set of efficient functions \n",
    "#corresponding to the intrinsic operators of Python\n",
    "import operator"
   ]
  },
  {
   "cell_type": "code",
   "execution_count": 3,
   "metadata": {},
   "outputs": [
    {
     "data": {
      "text/html": [
       "<div>\n",
       "<style scoped>\n",
       "    .dataframe tbody tr th:only-of-type {\n",
       "        vertical-align: middle;\n",
       "    }\n",
       "\n",
       "    .dataframe tbody tr th {\n",
       "        vertical-align: top;\n",
       "    }\n",
       "\n",
       "    .dataframe thead th {\n",
       "        text-align: right;\n",
       "    }\n",
       "</style>\n",
       "<table border=\"1\" class=\"dataframe\">\n",
       "  <thead>\n",
       "    <tr style=\"text-align: right;\">\n",
       "      <th></th>\n",
       "      <th>5.1</th>\n",
       "      <th>0.222222222</th>\n",
       "      <th>3.5</th>\n",
       "      <th>0.625</th>\n",
       "      <th>1.4</th>\n",
       "      <th>0.06779661</th>\n",
       "      <th>0.2</th>\n",
       "      <th>0.041666667</th>\n",
       "      <th>setosa</th>\n",
       "    </tr>\n",
       "  </thead>\n",
       "  <tbody>\n",
       "    <tr>\n",
       "      <th>0</th>\n",
       "      <td>4.9</td>\n",
       "      <td>0.166667</td>\n",
       "      <td>3.0</td>\n",
       "      <td>0.416667</td>\n",
       "      <td>1.4</td>\n",
       "      <td>0.067797</td>\n",
       "      <td>0.2</td>\n",
       "      <td>0.041667</td>\n",
       "      <td>setosa</td>\n",
       "    </tr>\n",
       "    <tr>\n",
       "      <th>1</th>\n",
       "      <td>4.7</td>\n",
       "      <td>0.111111</td>\n",
       "      <td>3.2</td>\n",
       "      <td>0.500000</td>\n",
       "      <td>1.3</td>\n",
       "      <td>0.050847</td>\n",
       "      <td>0.2</td>\n",
       "      <td>0.041667</td>\n",
       "      <td>setosa</td>\n",
       "    </tr>\n",
       "    <tr>\n",
       "      <th>2</th>\n",
       "      <td>4.6</td>\n",
       "      <td>0.083333</td>\n",
       "      <td>3.1</td>\n",
       "      <td>0.458333</td>\n",
       "      <td>1.5</td>\n",
       "      <td>0.084746</td>\n",
       "      <td>0.2</td>\n",
       "      <td>0.041667</td>\n",
       "      <td>setosa</td>\n",
       "    </tr>\n",
       "    <tr>\n",
       "      <th>3</th>\n",
       "      <td>5.0</td>\n",
       "      <td>0.194444</td>\n",
       "      <td>3.6</td>\n",
       "      <td>0.666667</td>\n",
       "      <td>1.4</td>\n",
       "      <td>0.067797</td>\n",
       "      <td>0.2</td>\n",
       "      <td>0.041667</td>\n",
       "      <td>setosa</td>\n",
       "    </tr>\n",
       "    <tr>\n",
       "      <th>4</th>\n",
       "      <td>5.4</td>\n",
       "      <td>0.305556</td>\n",
       "      <td>3.9</td>\n",
       "      <td>0.791667</td>\n",
       "      <td>1.7</td>\n",
       "      <td>0.118644</td>\n",
       "      <td>0.4</td>\n",
       "      <td>0.125000</td>\n",
       "      <td>setosa</td>\n",
       "    </tr>\n",
       "  </tbody>\n",
       "</table>\n",
       "</div>"
      ],
      "text/plain": [
       "   5.1  0.222222222  3.5     0.625  1.4  0.06779661  0.2  0.041666667  setosa\n",
       "0  4.9     0.166667  3.0  0.416667  1.4    0.067797  0.2     0.041667  setosa\n",
       "1  4.7     0.111111  3.2  0.500000  1.3    0.050847  0.2     0.041667  setosa\n",
       "2  4.6     0.083333  3.1  0.458333  1.5    0.084746  0.2     0.041667  setosa\n",
       "3  5.0     0.194444  3.6  0.666667  1.4    0.067797  0.2     0.041667  setosa\n",
       "4  5.4     0.305556  3.9  0.791667  1.7    0.118644  0.4     0.125000  setosa"
      ]
     },
     "execution_count": 3,
     "metadata": {},
     "output_type": "execute_result"
    }
   ],
   "source": [
    "data = pd.read_csv(\"IRIS.csv\")\n",
    "data.head()\n",
    "# TO do add header manually"
   ]
  },
  {
   "cell_type": "code",
   "execution_count": 171,
   "metadata": {},
   "outputs": [],
   "source": [
    "# create and shuffle datset\n",
    "from sklearn.utils import shuffle\n",
    "dataset = np.array(data)\n",
    "dataset = shuffle(dataset)\n",
    "\n",
    "dataset_X , dataset_y = dataset[: , 0:8] , dataset[: , -1]\n",
    "dataset_X.shape , dataset_y.shape\n",
    "\n",
    "x_train , y_train , x_val , y_val = dataset_X[0:90] , dataset_y[0:90] , dataset_X[90:] , dataset_y[90:]"
   ]
  },
  {
   "cell_type": "code",
   "execution_count": 73,
   "metadata": {},
   "outputs": [],
   "source": [
    "def euclideanDistance(data1 , data2):\n",
    "    features = len(data1)  # data1.shape : (4,)\n",
    "    distance = 0\n",
    "    \n",
    "    for i in range(features):\n",
    "        distance += np.square(data1[i] - data2[i])\n",
    "    \n",
    "    return np.sqrt(distance)"
   ]
  },
  {
   "cell_type": "code",
   "execution_count": 74,
   "metadata": {},
   "outputs": [
    {
     "data": {
      "text/plain": [
       "5.5242591541184565"
      ]
     },
     "execution_count": 74,
     "metadata": {},
     "output_type": "execute_result"
    }
   ],
   "source": [
    "euclideanDistance(x_train[0] ,x_val[0])"
   ]
  },
  {
   "cell_type": "code",
   "execution_count": 105,
   "metadata": {},
   "outputs": [],
   "source": [
    "def kNN(trainingSet , testInstance , k , verbose=False):\n",
    "    \"\"\"\n",
    "    kNN Model\n",
    "    @params{trainingSet : 90% of IRIS.csv,\n",
    "        testInstance : single data from remainign set,\n",
    "        k : number of neighbours for prediction}\n",
    "    \"\"\"\n",
    "    distance = {}\n",
    "    sort = {}\n",
    "    \n",
    "    # Calculating euclidean distance between each row \n",
    "    # of training data and test data\n",
    "    \n",
    "    for x in range(len(trainingSet)):\n",
    "        dist = euclideanDistance(testInstance , trainingSet[x])\n",
    "    \n",
    "        distance[x] = dist \n",
    "        \n",
    "    # Sorting them on the basis of distance\n",
    "#     if(verbose):\n",
    "#         print(\"Distance :\" , distance)\n",
    "#         print()\n",
    "        \n",
    "        \n",
    "    sorted_dist = sorted(distance.items() , key = operator.itemgetter(1))\n",
    "    \n",
    "    if(verbose):\n",
    "        print(\"Sorted Distance from ALL traning Dataset :\",sorted_dist)\n",
    "        \n",
    "    neighbours = []\n",
    "    \n",
    "    # Extracting top k neighbors\n",
    "    for i in range(k):\n",
    "        neighbours.append(sorted_dist[i][0])\n",
    "    \n",
    "    classVotes = {}\n",
    "    \n",
    "    \n",
    "     # Calculating the most freq class in the neighbors\n",
    "    \n",
    "    for i in range(len(neighbours)):\n",
    "        response = y_train[neighbours[i]]\n",
    "        \n",
    "        if response in classVotes:\n",
    "            classVotes[response] +=1\n",
    "            \n",
    "        else:\n",
    "            classVotes[response] = 1\n",
    "            \n",
    "            \n",
    "    sortedVotes = sorted(classVotes.items() , key = operator.itemgetter(1) , reverse= True)\n",
    "    \n",
    "    if(verbose):\n",
    "        print(\"All votes of neighbours : \" , sortedVotes)\n",
    "        \n",
    "    \n",
    "    return(sortedVotes[0][0] , neighbours)"
   ]
  },
  {
   "cell_type": "code",
   "execution_count": 99,
   "metadata": {},
   "outputs": [],
   "source": [
    "result , neigh = kNN(x_train[0:10] , x_val[0] , 3)"
   ]
  },
  {
   "cell_type": "code",
   "execution_count": 196,
   "metadata": {},
   "outputs": [],
   "source": [
    "def checkAcc(validate_y , k , verbose=False):\n",
    "    \"\"\"\n",
    "    @params{y_val : 10% of IRIS.csv labels,\n",
    "        k : number of neighbours for prediction}    \n",
    "    \"\"\"\n",
    "    \n",
    "    results = []\n",
    "    neighbours = []\n",
    "    for i in range(len(validate_y)):\n",
    "        # Running KNN model\n",
    "        result,neigh = kNN(x_train, x_val[i], k , verbose)\n",
    "        results.append(result)\n",
    "        neighbours.append(neigh)\n",
    "        \n",
    "#     if True:\n",
    "#             print(\"Predicted Labels : \" , results)\n",
    "#             print(\"Actual Labels : \" , validate_y)\n",
    "    \n",
    "    accuracy = np.sum(results == validate_y)/len(validate_y)\n",
    "    \n",
    "    if verbose :\n",
    "        for i in range(len(validate_y)):\n",
    "            if results[i]!=validate_y[i]:\n",
    "                print(\"Predicted Labels : \" , results[i])\n",
    "                print(\"Actual Labels : \" , validate_y[i])\n",
    "                print(\"Neighbours used is : \" , [y_train[name] for name in neighbours[i]])\n",
    "        \n",
    "    return accuracy , results"
   ]
  },
  {
   "cell_type": "code",
   "execution_count": 197,
   "metadata": {},
   "outputs": [],
   "source": [
    "acc , _ = checkAcc(y_val , 5)"
   ]
  },
  {
   "cell_type": "code",
   "execution_count": null,
   "metadata": {},
   "outputs": [],
   "source": []
  },
  {
   "cell_type": "code",
   "execution_count": 203,
   "metadata": {},
   "outputs": [],
   "source": [
    "# Plotting Accuracy vs learning rate\n",
    "import matplotlib.pyplot as plt\n",
    "def plot_acc(k):\n",
    "    accuracy = []\n",
    "    for i in range(1,k):\n",
    "        acc  , _ = checkAcc(y_val , i)\n",
    "        accuracy.append(acc)\n",
    "\n",
    "    k_val = [i for i in range(1 , k)]\n",
    "#     print(accuracy)\n",
    "    plt.plot(k_val, accuracy, 'ro')\n",
    "    plt.axis([0, k, 0, 2])\n",
    "    plt.show()"
   ]
  },
  {
   "cell_type": "code",
   "execution_count": 236,
   "metadata": {},
   "outputs": [
    {
     "name": "stdout",
     "output_type": "stream",
     "text": [
      "[[31 17 89  5 12]\n",
      " [33 71  8 18 36]\n",
      " [87 78 27 40 10]\n",
      " [89 17 20 31 16]\n",
      " [63 70 55 65 51]\n",
      " [39 45 66 15 26]\n",
      " [76 55 65 11 70]\n",
      " [55 76 65 70  0]\n",
      " [63 51 70 32 65]]\n",
      "1.0\n"
     ]
    }
   ],
   "source": [
    "\"\"\"\n",
    "Comparing our model with scikit-learn\n",
    "\"\"\"\n",
    "\n",
    "from sklearn.neighbors import KNeighborsClassifier\n",
    "k=5\n",
    "knn = KNeighborsClassifier(n_neighbors=k)\n",
    "\n",
    "knn.fit(x_train , y_train)\n",
    "\n",
    "pred = knn.predict(x_val)\n",
    "neigh = knn.kneighbors(x_val)[1][: ,0:k]\n",
    "print(neigh)\n",
    "\n",
    "acc = np.sum(pred == y_val)/len(y_val)\n",
    "\n",
    "print(acc)"
   ]
  }
 ],
 "metadata": {
  "kernelspec": {
   "display_name": "Python 3",
   "language": "python",
   "name": "python3"
  },
  "language_info": {
   "codemirror_mode": {
    "name": "ipython",
    "version": 3
   },
   "file_extension": ".py",
   "mimetype": "text/x-python",
   "name": "python",
   "nbconvert_exporter": "python",
   "pygments_lexer": "ipython3",
   "version": "3.6.4"
  }
 },
 "nbformat": 4,
 "nbformat_minor": 2
}
